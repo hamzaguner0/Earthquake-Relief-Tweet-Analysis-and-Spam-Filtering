{
 "cells": [
  {
   "cell_type": "code",
   "execution_count": null,
   "metadata": {
    "vscode": {
     "languageId": "plaintext"
    }
   },
   "outputs": [],
   "source": [
    "import requests\n",
    "\n",
    "url = \"https://twitter-api47.p.rapidapi.com/v2/user/by-username\"\n",
    "\n",
    "querystring = {\"username\":\"spacex\"}\n",
    "\n",
    "headers = {\n",
    "\t\"X-RapidAPI-Key\": \"fc6f5fb717mshd1408ccfbc2aa83p1dfa19jsnd140d1b1e4ec\",\n",
    "\t\"X-RapidAPI-Host\": \"twitter-api47.p.rapidapi.com\"\n",
    "}\n",
    "\n",
    "response = requests.get(url, headers=headers, params=querystring)\n",
    "\n",
    "print(response.json())"
   ]
  }
 ],
 "metadata": {
  "language_info": {
   "name": "python"
  }
 },
 "nbformat": 4,
 "nbformat_minor": 2
}
